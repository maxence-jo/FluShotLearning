{
 "cells": [
  {
   "cell_type": "code",
   "execution_count": 1,
   "metadata": {},
   "outputs": [],
   "source": [
    "from pathlib import Path\n",
    "import matplotlib.pyplot as plt\n",
    "import numpy as np\n",
    "import pandas as pd\n",
    "from sklearn.preprocessing import OneHotEncoder, OrdinalEncoder\n",
    "from sklearn.pipeline import Pipeline\n",
    "from sklearn.compose import ColumnTransformer\n",
    "from sklearn.model_selection import train_test_split\n",
    "from sklearn.impute import SimpleImputer\n",
    "from sklearn.preprocessing import StandardScaler\n",
    "from sklearn.metrics import roc_curve, roc_auc_score\n",
    "\n",
    "pd.set_option(\"display.max_columns\", 100)\n",
    "\n",
    "DATA_PATH = Path.cwd() / \"data\" \n",
    "\n",
    "def load_data(DATA_PATH):\n",
    "    features_df = pd.read_csv(\n",
    "        DATA_PATH / \"training_set_features.csv\", \n",
    "        index_col=\"respondent_id\"\n",
    "    )\n",
    "    labels_df = pd.read_csv(\n",
    "        DATA_PATH / \"training_set_labels.csv\", \n",
    "        index_col=\"respondent_id\"\n",
    "    )\n",
    "    return features_df, labels_df\n",
    "\n",
    "\n",
    "def plot_roc(y_true, y_score, label_name, ax):\n",
    "    fpr, tpr, thresholds = roc_curve(y_true, y_score)\n",
    "    ax.plot(fpr, tpr)\n",
    "    ax.plot([0, 1], [0, 1], color='grey', linestyle='--')\n",
    "    ax.set_ylabel('TPR')\n",
    "    ax.set_xlabel('FPR')\n",
    "    ax.set_title(f\"{label_name}: AUC = {roc_auc_score(y_true, y_score):.4f}\")\n",
    "\n",
    "def performance_analysis(preds, y_eval):\n",
    "    fig, ax = plt.subplots(1, 2, figsize=(7, 3.5))\n",
    "\n",
    "    plot_roc(\n",
    "        y_eval['h1n1_vaccine'], \n",
    "        y_preds['h1n1_vaccine'], \n",
    "        'h1n1_vaccine',\n",
    "        ax=ax[0]\n",
    "    )\n",
    "    plot_roc(\n",
    "        y_eval['seasonal_vaccine'], \n",
    "        y_preds['seasonal_vaccine'], \n",
    "        'seasonal_vaccine',\n",
    "        ax=ax[1]\n",
    "    )\n",
    "    fig.tight_layout()\n",
    "    return\n",
    "\n",
    "features_df, label_df = load_data(DATA_PATH)\n",
    "\n",
    "X_train, X_eval, y_train, y_eval = train_test_split(features_df, label_df, test_size = 0.2, random_state = 42)\n",
    "y_train_h1n1 = y_train[\"h1n1_vaccine\"]\n",
    "y_train_sf = y_train[\"seasonal_vaccine\"]\n",
    "y_eval_h1n1 = y_eval[\"h1n1_vaccine\"]\n",
    "y_eval_sf = y_eval[\"seasonal_vaccine\"]\n",
    "\n",
    "num_pipeline = Pipeline([('std_scaler', StandardScaler()),('imputer', SimpleImputer(strategy = \"median\"))])\n",
    "cat_pipeline = Pipeline([('Encoder',OneHotEncoder())])\n",
    "num_attribs = features_df.columns[features_df.dtypes != \"object\"].values\n",
    "cat_attribs = features_df.columns[features_df.dtypes == \"object\"].values\n",
    "\n",
    "preprocessor = ColumnTransformer([(\"num\", num_pipeline, num_attribs),\n",
    "                                  (\"cat\", cat_pipeline, cat_attribs)], remainder = \"drop\")\n",
    "X_train_prepared = preprocessor.fit_transform(X_train)"
   ]
  },
  {
   "cell_type": "code",
   "execution_count": 2,
   "metadata": {},
   "outputs": [
    {
     "data": {
      "image/png": "[encoded data removed]",
      "text/plain": [
       "<Figure size 504x252 with 2 Axes>"
      ]
     },
     "metadata": {
      "needs_background": "light"
     },
     "output_type": "display_data"
    }
   ],
   "source": [
    "#Decision Tree\n",
    "\n",
    "from sklearn.tree import DecisionTreeClassifier\n",
    "from sklearn.multioutput import MultiOutputClassifier\n",
    "estimators = MultiOutputClassifier(estimator=DecisionTreeClassifier(max_depth = 5))\n",
    "\n",
    "full_pipeline = Pipeline([\n",
    "    (\"preprocessor\", preprocessor),\n",
    "    (\"estimators\", estimators),\n",
    "])\n",
    "\n",
    "full_pipeline.fit(X_train, y_train)\n",
    "\n",
    "# Predict on evaluation set\n",
    "# This competition wants probabilities, not labels\n",
    "preds = full_pipeline.predict_proba(X_eval)\n",
    "y_preds = pd.DataFrame(\n",
    "       {\n",
    "           \"h1n1_vaccine\": preds[0][:, 1],\n",
    "           \"seasonal_vaccine\": preds[1][:, 1],\n",
    "       },\n",
    "       index = y_eval.index\n",
    "   )\n",
    "performance_analysis(y_preds, y_eval)"
   ]
  },
  {
   "cell_type": "code",
   "execution_count": 3,
   "metadata": {},
   "outputs": [
    {
     "name": "stdout",
     "output_type": "stream",
     "text": [
      "Epoch 1/30\n",
      "601/601 [==============================] - 7s 9ms/step - loss: 0.5928 - auc: 0.7595 - val_loss: 0.5369 - val_auc: 0.8084\n",
      "Epoch 2/30\n",
      "601/601 [==============================] - 4s 7ms/step - loss: 0.4999 - auc: 0.8408 - val_loss: 0.4781 - val_auc: 0.8538\n",
      "Epoch 3/30\n",
      "601/601 [==============================] - 4s 7ms/step - loss: 0.4671 - auc: 0.8614 - val_loss: 0.4613 - val_auc: 0.8644\n",
      "Epoch 4/30\n",
      "601/601 [==============================] - 4s 7ms/step - loss: 0.4548 - auc: 0.8688 - val_loss: 0.4524 - val_auc: 0.8700\n",
      "Epoch 5/30\n",
      "601/601 [==============================] - 4s 6ms/step - loss: 0.4467 - auc: 0.8736 - val_loss: 0.4456 - val_auc: 0.8742\n",
      "Epoch 6/30\n",
      "601/601 [==============================] - 5s 8ms/step - loss: 0.4404 - auc: 0.8775 - val_loss: 0.4411 - val_auc: 0.8768\n",
      "Epoch 7/30\n",
      "601/601 [==============================] - 5s 8ms/step - loss: 0.4357 - auc: 0.8802 - val_loss: 0.4370 - val_auc: 0.8793\n",
      "Epoch 8/30\n",
      "601/601 [==============================] - 3s 5ms/step - loss: 0.4319 - auc: 0.8824 - val_loss: 0.4342 - val_auc: 0.8810\n",
      "Epoch 9/30\n",
      "601/601 [==============================] - 3s 5ms/step - loss: 0.4291 - auc: 0.8840 - val_loss: 0.4319 - val_auc: 0.8823\n",
      "Epoch 10/30\n",
      "601/601 [==============================] - 5s 8ms/step - loss: 0.4268 - auc: 0.8854 - val_loss: 0.4325 - val_auc: 0.8820\n",
      "Epoch 11/30\n",
      "601/601 [==============================] - 5s 9ms/step - loss: 0.4249 - auc: 0.8864 - val_loss: 0.4294 - val_auc: 0.8837\n",
      "Epoch 12/30\n",
      "601/601 [==============================] - 5s 9ms/step - loss: 0.4233 - auc: 0.8874 - val_loss: 0.4299 - val_auc: 0.8835\n",
      "Epoch 13/30\n",
      "601/601 [==============================] - 5s 9ms/step - loss: 0.4220 - auc: 0.8881 - val_loss: 0.4284 - val_auc: 0.8844\n",
      "Epoch 14/30\n",
      "601/601 [==============================] - 3s 6ms/step - loss: 0.4205 - auc: 0.8890 - val_loss: 0.4278 - val_auc: 0.8847\n",
      "Epoch 15/30\n",
      "601/601 [==============================] - 5s 8ms/step - loss: 0.4193 - auc: 0.8896 - val_loss: 0.4277 - val_auc: 0.8848\n",
      "Epoch 16/30\n",
      "601/601 [==============================] - 5s 9ms/step - loss: 0.4180 - auc: 0.8903 - val_loss: 0.4275 - val_auc: 0.8849\n",
      "Epoch 17/30\n",
      "601/601 [==============================] - 5s 8ms/step - loss: 0.4166 - auc: 0.8911 - val_loss: 0.4260 - val_auc: 0.8857\n",
      "Epoch 18/30\n",
      "601/601 [==============================] - 5s 9ms/step - loss: 0.4154 - auc: 0.8918 - val_loss: 0.4262 - val_auc: 0.8856\n",
      "Epoch 19/30\n",
      "601/601 [==============================] - 5s 9ms/step - loss: 0.4141 - auc: 0.8925 - val_loss: 0.4265 - val_auc: 0.8856\n",
      "Epoch 20/30\n",
      "601/601 [==============================] - 3s 5ms/step - loss: 0.4128 - auc: 0.8932 - val_loss: 0.4290 - val_auc: 0.8844\n",
      "Epoch 21/30\n",
      "601/601 [==============================] - 5s 8ms/step - loss: 0.4119 - auc: 0.8937 - val_loss: 0.4259 - val_auc: 0.8857\n",
      "Epoch 22/30\n",
      "601/601 [==============================] - 3s 5ms/step - loss: 0.4107 - auc: 0.8944 - val_loss: 0.4254 - val_auc: 0.8860\n",
      "Epoch 23/30\n",
      "601/601 [==============================] - 4s 6ms/step - loss: 0.4095 - auc: 0.8950 - val_loss: 0.4250 - val_auc: 0.8863\n",
      "Epoch 24/30\n",
      "601/601 [==============================] - 5s 8ms/step - loss: 0.4082 - auc: 0.8958 - val_loss: 0.4254 - val_auc: 0.8860\n",
      "Epoch 25/30\n",
      "601/601 [==============================] - 5s 9ms/step - loss: 0.4071 - auc: 0.8964 - val_loss: 0.4251 - val_auc: 0.8863\n",
      "Epoch 26/30\n",
      "601/601 [==============================] - 4s 6ms/step - loss: 0.4060 - auc: 0.8970 - val_loss: 0.4245 - val_auc: 0.8867\n",
      "Epoch 27/30\n",
      "601/601 [==============================] - 5s 8ms/step - loss: 0.4046 - auc: 0.8976 - val_loss: 0.4254 - val_auc: 0.8860\n",
      "Epoch 28/30\n",
      "601/601 [==============================] - 5s 8ms/step - loss: 0.4035 - auc: 0.8983 - val_loss: 0.4247 - val_auc: 0.8865\n",
      "Epoch 29/30\n",
      "601/601 [==============================] - 3s 4ms/step - loss: 0.4023 - auc: 0.8989 - val_loss: 0.4253 - val_auc: 0.8862\n",
      "Epoch 30/30\n",
      "601/601 [==============================] - 5s 8ms/step - loss: 0.4011 - auc: 0.8996 - val_loss: 0.4248 - val_auc: 0.8865\n"
     ]
    }
   ],
   "source": [
    "import tensorflow as tf\n",
    "from tensorflow import keras\n",
    "y_train_ann = y_train.copy()\n",
    "y_train_ann[\"no_h1n1_vaccine\"] = 1 - y_train_ann[\"h1n1_vaccine\"]\n",
    "y_train_ann[\"no_seasonal_vaccine\"] = 1 - y_train_ann[\"seasonal_vaccine\"]\n",
    "X_train_ann, X_valid , y_train_ann, y_valid = train_test_split(X_train_prepared,y_train_ann, random_state = 42, test_size = 0.1)\n",
    "model = keras.models.Sequential()\n",
    "model.add(keras.layers.Dense(300, activation = \"relu\"))\n",
    "model.add(keras.layers.Dense(100, activation = \"relu\"))\n",
    "model.add(keras.layers.Dense(100, activation = \"relu\"))\n",
    "model.add(keras.layers.Dense(4, activation = \"sigmoid\"))\n",
    "model.compile(loss = \"binary_crossentropy\", optimizer = \"sgd\", metrics = [\"AUC\"])\n",
    "history = model.fit(X_train_ann, y_train_ann, epochs = 30, validation_data = (X_valid, y_valid))"
   ]
  },
  {
   "cell_type": "code",
   "execution_count": 4,
   "metadata": {},
   "outputs": [
    {
     "data": {
      "image/png": "[encoded data removed]",
      "text/plain": [
       "<Figure size 504x252 with 2 Axes>"
      ]
     },
     "metadata": {
      "needs_background": "light"
     },
     "output_type": "display_data"
    }
   ],
   "source": [
    "X_eval_ann = preprocessor.transform(X_eval)\n",
    "preds = model.predict(X_eval_ann)\n",
    "y_preds = pd.DataFrame(\n",
    "       {\n",
    "           \"h1n1_vaccine\": preds[:,0],\n",
    "           \"seasonal_vaccine\": preds[:,1],\n",
    "       },\n",
    "       index = y_eval.index\n",
    "   )\n",
    "performance_analysis(y_preds, y_eval)"
   ]
  },
  {
   "cell_type": "code",
   "execution_count": 66,
   "metadata": {},
   "outputs": [],
   "source": [
    "model.save(\"model_2_PIE_Sequential_ANN.h5\")"
   ]
  },
  {
   "cell_type": "code",
   "execution_count": 62,
   "metadata": {},
   "outputs": [
    {
     "data": {
      "text/plain": [
       "array([0.1648092 , 0.12368727, 0.03240559, ..., 0.69093835, 0.11387357,\n",
       "       0.03281251], dtype=float32)"
      ]
     },
     "execution_count": 62,
     "metadata": {},
     "output_type": "execute_result"
    }
   ],
   "source": []
  },
  {
   "cell_type": "code",
   "execution_count": 48,
   "metadata": {},
   "outputs": [
    {
     "data": {
      "text/html": [
       "<div>\n",
       "<style scoped>\n",
       "    .dataframe tbody tr th:only-of-type {\n",
       "        vertical-align: middle;\n",
       "    }\n",
       "\n",
       "    .dataframe tbody tr th {\n",
       "        vertical-align: top;\n",
       "    }\n",
       "\n",
       "    .dataframe thead th {\n",
       "        text-align: right;\n",
       "    }\n",
       "</style>\n",
       "<table border=\"1\" class=\"dataframe\">\n",
       "  <thead>\n",
       "    <tr style=\"text-align: right;\">\n",
       "      <th></th>\n",
       "      <th>h1n1_vaccine</th>\n",
       "      <th>seasonal_vaccine</th>\n",
       "      <th>no_h1n1_vaccine</th>\n",
       "      <th>no_seasonal_vaccine</th>\n",
       "    </tr>\n",
       "    <tr>\n",
       "      <th>respondent_id</th>\n",
       "      <th></th>\n",
       "      <th></th>\n",
       "      <th></th>\n",
       "      <th></th>\n",
       "    </tr>\n",
       "  </thead>\n",
       "  <tbody>\n",
       "    <tr>\n",
       "      <th>24706</th>\n",
       "      <td>0</td>\n",
       "      <td>0</td>\n",
       "      <td>1</td>\n",
       "      <td>1</td>\n",
       "    </tr>\n",
       "    <tr>\n",
       "      <th>5393</th>\n",
       "      <td>0</td>\n",
       "      <td>1</td>\n",
       "      <td>1</td>\n",
       "      <td>0</td>\n",
       "    </tr>\n",
       "    <tr>\n",
       "      <th>20898</th>\n",
       "      <td>1</td>\n",
       "      <td>1</td>\n",
       "      <td>0</td>\n",
       "      <td>0</td>\n",
       "    </tr>\n",
       "    <tr>\n",
       "      <th>3429</th>\n",
       "      <td>0</td>\n",
       "      <td>0</td>\n",
       "      <td>1</td>\n",
       "      <td>1</td>\n",
       "    </tr>\n",
       "    <tr>\n",
       "      <th>8731</th>\n",
       "      <td>0</td>\n",
       "      <td>0</td>\n",
       "      <td>1</td>\n",
       "      <td>1</td>\n",
       "    </tr>\n",
       "  </tbody>\n",
       "</table>\n",
       "</div>"
      ],
      "text/plain": [
       "               h1n1_vaccine  seasonal_vaccine  no_h1n1_vaccine  \\\n",
       "respondent_id                                                    \n",
       "24706                     0                 0                1   \n",
       "5393                      0                 1                1   \n",
       "20898                     1                 1                0   \n",
       "3429                      0                 0                1   \n",
       "8731                      0                 0                1   \n",
       "\n",
       "               no_seasonal_vaccine  \n",
       "respondent_id                       \n",
       "24706                            1  \n",
       "5393                             0  \n",
       "20898                            0  \n",
       "3429                             1  \n",
       "8731                             1  "
      ]
     },
     "execution_count": 48,
     "metadata": {},
     "output_type": "execute_result"
    }
   ],
   "source": [
    "y_train_ann = y_train.copy()\n",
    "y_train_ann[\"no_h1n1_vaccine\"] = 1 - y_train_ann[\"h1n1_vaccine\"]\n",
    "y_train_ann[\"no_seasonal_vaccine\"] = 1 - y_train_ann[\"seasonal_vaccine\"]\n",
    "y_train_ann.head()"
   ]
  }
 ],
 "metadata": {
  "kernelspec": {
   "display_name": "Python 3",
   "language": "python",
   "name": "python3"
  },
  "language_info": {
   "codemirror_mode": {
    "name": "ipython",
    "version": 3
   },
   "file_extension": ".py",
   "mimetype": "text/x-python",
   "name": "python",
   "nbconvert_exporter": "python",
   "pygments_lexer": "ipython3",
   "version": "3.7.9"
  }
 },
 "nbformat": 4,
 "nbformat_minor": 4
}
